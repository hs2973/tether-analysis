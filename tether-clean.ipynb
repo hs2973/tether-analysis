{
 "cells": [
  {
   "cell_type": "code",
   "execution_count": 1,
   "metadata": {},
   "outputs": [],
   "source": [
    "import pandas as pd\n",
    "import numpy as np"
   ]
  },
  {
   "cell_type": "code",
   "execution_count": 2,
   "metadata": {},
   "outputs": [],
   "source": [
    "pd.options.display.float_format = '{:,.2f}'.format"
   ]
  },
  {
   "cell_type": "code",
   "execution_count": 3,
   "metadata": {},
   "outputs": [],
   "source": [
    "import qgrid\n",
    "\n",
    "qgrid.set_grid_option('maxVisibleRows', 10)\n",
    "qgrid.set_grid_option('editable', False)"
   ]
  },
  {
   "cell_type": "code",
   "execution_count": 4,
   "metadata": {},
   "outputs": [],
   "source": [
    "df = pd.read_csv('tether_transactions_522647.csv')\n",
    "valid = df[df.is_valid == 1]"
   ]
  },
  {
   "cell_type": "code",
   "execution_count": 5,
   "metadata": {},
   "outputs": [
    {
     "data": {
      "text/plain": [
       "Simple Send               1490224\n",
       "Crowdsale Purchase             97\n",
       "Grant Property Tokens          80\n",
       "Revoke Property Tokens          1\n",
       "Name: tx_type, dtype: int64"
      ]
     },
     "execution_count": 5,
     "metadata": {},
     "output_type": "execute_result"
    }
   ],
   "source": [
    "valid.tx_type.value_counts()"
   ]
  },
  {
   "cell_type": "code",
   "execution_count": 6,
   "metadata": {},
   "outputs": [
    {
     "data": {
      "text/plain": [
       "1490402"
      ]
     },
     "execution_count": 6,
     "metadata": {},
     "output_type": "execute_result"
    }
   ],
   "source": [
    "len(valid)"
   ]
  },
  {
   "cell_type": "code",
   "execution_count": 7,
   "metadata": {},
   "outputs": [
    {
     "data": {
      "text/html": [
       "<div>\n",
       "<style scoped>\n",
       "    .dataframe tbody tr th:only-of-type {\n",
       "        vertical-align: middle;\n",
       "    }\n",
       "\n",
       "    .dataframe tbody tr th {\n",
       "        vertical-align: top;\n",
       "    }\n",
       "\n",
       "    .dataframe thead th {\n",
       "        text-align: right;\n",
       "    }\n",
       "</style>\n",
       "<table border=\"1\" class=\"dataframe\">\n",
       "  <thead>\n",
       "    <tr style=\"text-align: right;\">\n",
       "      <th></th>\n",
       "      <th>amount</th>\n",
       "    </tr>\n",
       "    <tr>\n",
       "      <th>tx_type</th>\n",
       "      <th></th>\n",
       "    </tr>\n",
       "  </thead>\n",
       "  <tbody>\n",
       "    <tr>\n",
       "      <th>Crowdsale Purchase</th>\n",
       "      <td>113,213.79</td>\n",
       "    </tr>\n",
       "    <tr>\n",
       "      <th>Grant Property Tokens</th>\n",
       "      <td>2,550,000,000.00</td>\n",
       "    </tr>\n",
       "    <tr>\n",
       "      <th>Revoke Property Tokens</th>\n",
       "      <td>30,000,000.00</td>\n",
       "    </tr>\n",
       "    <tr>\n",
       "      <th>Simple Send</th>\n",
       "      <td>56,683,546,721.74</td>\n",
       "    </tr>\n",
       "  </tbody>\n",
       "</table>\n",
       "</div>"
      ],
      "text/plain": [
       "                                  amount\n",
       "tx_type                                 \n",
       "Crowdsale Purchase            113,213.79\n",
       "Grant Property Tokens   2,550,000,000.00\n",
       "Revoke Property Tokens     30,000,000.00\n",
       "Simple Send            56,683,546,721.74"
      ]
     },
     "execution_count": 7,
     "metadata": {},
     "output_type": "execute_result"
    }
   ],
   "source": [
    "valid.pivot_table(index='tx_type', values=['amount'], aggfunc=sum)"
   ]
  },
  {
   "cell_type": "code",
   "execution_count": 8,
   "metadata": {},
   "outputs": [],
   "source": [
    "simple = valid[valid.tx_type == 'Simple Send']\n",
    "crowdsale = valid[valid.tx_type == 'Crowdsale Purchase']\n",
    "grant = valid[valid.tx_type == 'Grant Property Tokens']\n",
    "revoke = valid[valid.tx_type == 'Revoke Property Tokens']\n",
    "\n",
    "burnt = valid[valid.reference_address.isnull()]"
   ]
  },
  {
   "cell_type": "code",
   "execution_count": 9,
   "metadata": {},
   "outputs": [
    {
     "data": {
      "text/plain": [
       "30099925.6114425"
      ]
     },
     "execution_count": 9,
     "metadata": {},
     "output_type": "execute_result"
    }
   ],
   "source": [
    "burnt.amount.sum()"
   ]
  },
  {
   "cell_type": "code",
   "execution_count": 10,
   "metadata": {},
   "outputs": [],
   "source": [
    "def get_trans(address, df=valid):\n",
    "    return df[df.sending_address == address], df[df.reference_address == address]"
   ]
  },
  {
   "cell_type": "code",
   "execution_count": 11,
   "metadata": {},
   "outputs": [],
   "source": [
    "def compute_summary(df=valid):\n",
    "    # Compute sent summary\n",
    "    sent = df.pivot_table(index='sending_address',\n",
    "                          values=['amount', 'block_time', 'is_valid'], \n",
    "                          aggfunc={'amount': np.sum, 'block_time': ['first', 'last'], 'is_valid': 'count'}).reset_index()\n",
    "    # Renaming\n",
    "    sent = sent.rename(columns={'sending_address': 'address', \n",
    "                                'amount': 'amount_sent', \n",
    "                                'block_time': '',\n",
    "                                'is_valid': 'sent_count'})\n",
    "    sent = sent.rename(columns={'first': 'sent_first', 'last': 'sent_last', 'sum': '', 'count': ''}, level=1)\n",
    "    sent.columns = sent.columns.map(''.join)\n",
    "    \n",
    "    # Compute receive summary\n",
    "    recv = df.pivot_table(index='reference_address',\n",
    "                          values=['amount', 'block_time', 'is_valid'], \n",
    "                          aggfunc={'amount': np.sum, 'block_time': ['first', 'last'], 'is_valid': 'count'}).reset_index()\n",
    "    # Renaming\n",
    "    recv = recv.rename(columns={'reference_address': 'address', \n",
    "                                'amount': 'amount_recv', \n",
    "                                'block_time': '',\n",
    "                                'is_valid': 'recv_count'}).reset_index()\n",
    "    recv = recv.rename(columns={'first': 'recv_first', 'last': 'recv_last', 'sum': '', 'count': ''}, level=1)\n",
    "    recv.columns = recv.columns.map(''.join)\n",
    "\n",
    "    out = pd.merge(sent, recv, how='outer', on='address').fillna(0)\n",
    "    out['balance'] = out['amount_recv'] - out['amount_sent']\n",
    "    \n",
    "    out['balance'] = out['balance'].astype(int)\n",
    "    out['balance'] = out['balance'].astype(float)\n",
    "    out['sent_count'] = out['sent_count'].astype(int)\n",
    "    out['recv_count'] = out['recv_count'].astype(int)\n",
    "    \n",
    "    # Attach available labels to addresses\n",
    "    addresses = pd.read_csv('address.csv').iloc[::-1].drop_duplicates('address').iloc[::-1]\n",
    "    out = pd.merge(out, addresses, how='left', on='address')\n",
    "    \n",
    "    return out[['address', 'sent_count', 'recv_count', 'amount_sent', 'amount_recv', 'balance', \n",
    "                'recv_first', 'recv_last', 'sent_first', 'sent_last', 'id', 'exchange']].set_index('address')\n"
   ]
  },
  {
   "cell_type": "code",
   "execution_count": 12,
   "metadata": {},
   "outputs": [],
   "source": [
    "def print_detail(address, df=valid):\n",
    "    sent, recv = get_trans(address, df)\n",
    "    \n",
    "    print(\"Total sent: {:,.2f} ({} transactions to {} unique recepients)\".format(sent.amount.sum(), len(sent), sent.reference_address.nunique()))\n",
    "    print(\"Total received: {:,.2f} ({} transactions from {} unique senders)\".format(recv.amount.sum(), len(recv), recv.sending_address.nunique()))\n",
    "    print(\"Balance: {:,.2f} tokens\".format(recv.amount.sum() - sent.amount.sum()))"
   ]
  },
  {
   "cell_type": "code",
   "execution_count": 13,
   "metadata": {},
   "outputs": [
    {
     "name": "stdout",
     "output_type": "stream",
     "text": [
      "CPU times: user 1min, sys: 1.1 s, total: 1min 1s\n",
      "Wall time: 1min 2s\n"
     ]
    }
   ],
   "source": [
    "%time summary = compute_summary()"
   ]
  },
  {
   "cell_type": "code",
   "execution_count": 14,
   "metadata": {},
   "outputs": [
    {
     "data": {
      "text/plain": [
       "3BbDtxBSjgfTRxaBUgR2JACWRukLKtZdiQ    38\n",
       "1NTMakcgVwQpMdGxRQnFKyb3G1FAJysSfz    33\n",
       "1Nf3oM2pmoKx7M5oNUhyKYr3GLecineMHX     5\n",
       "132j6EiUWNamSSjiYEQBhsbufsnBh4a28U     2\n",
       "377UotoWsGk7K2Sx2QCnSVRBhCEZLtQtE4     2\n",
       "Name: reference_address, dtype: int64"
      ]
     },
     "execution_count": 14,
     "metadata": {},
     "output_type": "execute_result"
    }
   ],
   "source": [
    "grant.reference_address.value_counts()"
   ]
  },
  {
   "cell_type": "code",
   "execution_count": 18,
   "metadata": {},
   "outputs": [
    {
     "name": "stdout",
     "output_type": "stream",
     "text": [
      "Total sent: 0.00 (0 transactions to 0 unique recepients)\n",
      "Total received: 30,950,000.00 (3 transactionsf from 1 unique senders)\n",
      "Balance: 30,950,000.00 tokens\n"
     ]
    }
   ],
   "source": [
    "print_detail('16tg2RJuEPtZooy18Wxn2me2RhUdC94N7r')"
   ]
  },
  {
   "cell_type": "code",
   "execution_count": 19,
   "metadata": {},
   "outputs": [],
   "source": [
    "def get_sent(addresses, df=valid, cols=['sending_address', 'reference_address', 'amount']):\n",
    "    return df[df.sending_address.isin(addresses)][cols]"
   ]
  },
  {
   "cell_type": "code",
   "execution_count": 20,
   "metadata": {},
   "outputs": [],
   "source": [
    "def get_sent_all(address, df=valid, depth=1):\n",
    "    sent = get_sent([address], df=df)\n",
    "\n",
    "    for i in range(depth-1):\n",
    "        sent = pd.concat([sent, get_sent(list(sent.reference_address), df=df)], axis=0)\n",
    "        \n",
    "    return sent"
   ]
  },
  {
   "cell_type": "code",
   "execution_count": 21,
   "metadata": {},
   "outputs": [],
   "source": [
    "import networkx as nx\n",
    "import matplotlib.pyplot as plt\n",
    "\n",
    "from networkx.readwrite import json_graph\n",
    "from bokeh.util.browser import view\n",
    "\n",
    "import json, math"
   ]
  },
  {
   "cell_type": "code",
   "execution_count": 22,
   "metadata": {},
   "outputs": [],
   "source": [
    "def plot_transactions(address, summary, df=valid, depth=1, count_nodes=240):\n",
    "    g = get_sent_all(address, df, depth) \\\n",
    "            .groupby(['sending_address','reference_address']).agg(np.sum).reset_index()\n",
    "    g = g.sort_values('amount', ascending=False)[:count_nodes]\n",
    "    g['amount'] = g['amount'].astype(int)\n",
    "    g = g.rename(columns={'amount': 'value'})\n",
    "    \n",
    "    G = nx.from_pandas_edgelist(g, 'sending_address', 'reference_address', ['value'], create_using=nx.DiGraph())\n",
    "    pos = nx.kamada_kawai_layout(G)\n",
    "    \n",
    "    data = json_graph.node_link_data(G, {'link': 'edges', 'source': 'from', 'target': 'to'})\n",
    "    \n",
    "    for node in data['nodes']: \n",
    "        info = summary.loc[node['id']]\n",
    "        size = int(info.balance)\n",
    "        node['label'] = node['id'][:6] + '...'\n",
    "        node['title'] = \"Balance: {:,d}<br/>Total Sent: {:,d}<br/>Total Recv: {:,d}<br/>Number of sent tx: {:,d}<br/>Number of recv tx: {:,d}\".format(size, int(info.amount_sent), int(info.amount_recv), int(info.sent_count), int(info.recv_count), )\n",
    "        node['size'] = 2 if size < 4 else int(math.log(size, 2))\n",
    "        node['x'] = pos[node['id']][0]\n",
    "        node['y'] = pos[node['id']][1]\n",
    "        \n",
    "        if (not pd.isnull(info.id)):\n",
    "            node['label'] = info.id\n",
    "        \n",
    "        if (node['id'] == address):\n",
    "            node['color'] = { 'background':'#ccffcc', 'border': 'green' }\n",
    "            node['size'] = 10 if size < 10 else size\n",
    "        elif (not pd.isnull(info.exchange)):\n",
    "            node['title'] = node['title'] + '<br/><br/>Info: ' + info.id\n",
    "            node['group'] = 'Exchange'\n",
    "        else:\n",
    "            node['group'] = 'Normal'\n",
    "            \n",
    "\n",
    "    with open('notebook/data-notebook.json', 'w') as outfile:\n",
    "        json.dump(data, outfile)\n",
    "        \n",
    "    view('http://0.0.0.0:8000/notebook')"
   ]
  },
  {
   "cell_type": "code",
   "execution_count": 23,
   "metadata": {},
   "outputs": [
    {
     "name": "stdout",
     "output_type": "stream",
     "text": [
      "Total sent: 700,137,097.47 (638 transactions to 284 unique recepients)\n",
      "Total received: 700,137,124.94 (398 transactionsf from 187 unique senders)\n",
      "Balance: 27.47 tokens\n"
     ]
    }
   ],
   "source": [
    "print_detail('3BbDtxBSjgfTRxaBUgR2JACWRukLKtZdiQ')"
   ]
  },
  {
   "cell_type": "code",
   "execution_count": 24,
   "metadata": {},
   "outputs": [],
   "source": [
    "plot_transactions('3BbDtxBSjgfTRxaBUgR2JACWRukLKtZdiQ', summary, count_nodes=240, depth=4)"
   ]
  },
  {
   "cell_type": "code",
   "execution_count": 25,
   "metadata": {},
   "outputs": [
    {
     "name": "stdout",
     "output_type": "stream",
     "text": [
      "20\n"
     ]
    }
   ],
   "source": [
    "print(\"{:,d}\".format(int(summary.iloc[1].amount_sent)))"
   ]
  },
  {
   "cell_type": "code",
   "execution_count": 26,
   "metadata": {},
   "outputs": [
    {
     "data": {
      "application/vnd.jupyter.widget-view+json": {
       "model_id": "510fe174f0cd4889be15f44628cc817e",
       "version_major": 2,
       "version_minor": 0
      },
      "text/html": [
       "<p>Failed to display Jupyter Widget of type <code>QgridWidget</code>.</p>\n",
       "<p>\n",
       "  If you're reading this message in the Jupyter Notebook or JupyterLab Notebook, it may mean\n",
       "  that the widgets JavaScript is still loading. If this message persists, it\n",
       "  likely means that the widgets JavaScript library is either not installed or\n",
       "  not enabled. See the <a href=\"https://ipywidgets.readthedocs.io/en/stable/user_install.html\">Jupyter\n",
       "  Widgets Documentation</a> for setup instructions.\n",
       "</p>\n",
       "<p>\n",
       "  If you're reading this message in another frontend (for example, a static\n",
       "  rendering on GitHub or <a href=\"https://nbviewer.jupyter.org/\">NBViewer</a>),\n",
       "  it may mean that your frontend doesn't currently support widgets.\n",
       "</p>\n"
      ],
      "text/plain": [
       "QgridWidget(grid_options={'fullWidthRows': True, 'syncColumnCellResize': True, 'forceFitColumns': False, 'defaultColumnWidth': 150, 'rowHeight': 28, 'enableColumnReorder': False, 'enableTextSelectionOnCells': True, 'editable': False, 'autoEdit': False, 'explicitInitialization': True, 'maxVisibleRows': 10, 'minVisibleRows': 8, 'sortable': True, 'filterable': True, 'highlightSelectedCell': False, 'highlightSelectedRow': True}, id='ff2a2067-bdf4-4925-b301-a0c28066152f', precision=5)"
      ]
     },
     "metadata": {},
     "output_type": "display_data"
    }
   ],
   "source": [
    "widget = qgrid.show_grid(summary.reset_index(), grid_options={'forceFitColumns': False})\n",
    "widget"
   ]
  },
  {
   "cell_type": "code",
   "execution_count": 117,
   "metadata": {},
   "outputs": [
    {
     "data": {
      "text/html": [
       "\n",
       "    <div class=\"bk-root\">\n",
       "        <a href=\"https://bokeh.pydata.org\" target=\"_blank\" class=\"bk-logo bk-logo-small bk-logo-notebook\"></a>\n",
       "        <span id=\"0d9ede4d-f851-4bf8-9fb2-30ee3589b4a3\">Loading BokehJS ...</span>\n",
       "    </div>"
      ]
     },
     "metadata": {},
     "output_type": "display_data"
    },
    {
     "data": {
      "application/javascript": [
       "\n",
       "(function(root) {\n",
       "  function now() {\n",
       "    return new Date();\n",
       "  }\n",
       "\n",
       "  var force = true;\n",
       "\n",
       "  if (typeof (root._bokeh_onload_callbacks) === \"undefined\" || force === true) {\n",
       "    root._bokeh_onload_callbacks = [];\n",
       "    root._bokeh_is_loading = undefined;\n",
       "  }\n",
       "\n",
       "  var JS_MIME_TYPE = 'application/javascript';\n",
       "  var HTML_MIME_TYPE = 'text/html';\n",
       "  var EXEC_MIME_TYPE = 'application/vnd.bokehjs_exec.v0+json';\n",
       "  var CLASS_NAME = 'output_bokeh rendered_html';\n",
       "\n",
       "  /**\n",
       "   * Render data to the DOM node\n",
       "   */\n",
       "  function render(props, node) {\n",
       "    var script = document.createElement(\"script\");\n",
       "    node.appendChild(script);\n",
       "  }\n",
       "\n",
       "  /**\n",
       "   * Handle when an output is cleared or removed\n",
       "   */\n",
       "  function handleClearOutput(event, handle) {\n",
       "    var cell = handle.cell;\n",
       "\n",
       "    var id = cell.output_area._bokeh_element_id;\n",
       "    var server_id = cell.output_area._bokeh_server_id;\n",
       "    // Clean up Bokeh references\n",
       "    if (id != null && id in Bokeh.index) {\n",
       "      Bokeh.index[id].model.document.clear();\n",
       "      delete Bokeh.index[id];\n",
       "    }\n",
       "\n",
       "    if (server_id !== undefined) {\n",
       "      // Clean up Bokeh references\n",
       "      var cmd = \"from bokeh.io.state import curstate; print(curstate().uuid_to_server['\" + server_id + \"'].get_sessions()[0].document.roots[0]._id)\";\n",
       "      cell.notebook.kernel.execute(cmd, {\n",
       "        iopub: {\n",
       "          output: function(msg) {\n",
       "            var id = msg.content.text.trim();\n",
       "            if (id in Bokeh.index) {\n",
       "              Bokeh.index[id].model.document.clear();\n",
       "              delete Bokeh.index[id];\n",
       "            }\n",
       "          }\n",
       "        }\n",
       "      });\n",
       "      // Destroy server and session\n",
       "      var cmd = \"import bokeh.io.notebook as ion; ion.destroy_server('\" + server_id + \"')\";\n",
       "      cell.notebook.kernel.execute(cmd);\n",
       "    }\n",
       "  }\n",
       "\n",
       "  /**\n",
       "   * Handle when a new output is added\n",
       "   */\n",
       "  function handleAddOutput(event, handle) {\n",
       "    var output_area = handle.output_area;\n",
       "    var output = handle.output;\n",
       "\n",
       "    // limit handleAddOutput to display_data with EXEC_MIME_TYPE content only\n",
       "    if ((output.output_type != \"display_data\") || (!output.data.hasOwnProperty(EXEC_MIME_TYPE))) {\n",
       "      return\n",
       "    }\n",
       "\n",
       "    var toinsert = output_area.element.find(\".\" + CLASS_NAME.split(' ')[0]);\n",
       "\n",
       "    if (output.metadata[EXEC_MIME_TYPE][\"id\"] !== undefined) {\n",
       "      toinsert[toinsert.length - 1].firstChild.textContent = output.data[JS_MIME_TYPE];\n",
       "      // store reference to embed id on output_area\n",
       "      output_area._bokeh_element_id = output.metadata[EXEC_MIME_TYPE][\"id\"];\n",
       "    }\n",
       "    if (output.metadata[EXEC_MIME_TYPE][\"server_id\"] !== undefined) {\n",
       "      var bk_div = document.createElement(\"div\");\n",
       "      bk_div.innerHTML = output.data[HTML_MIME_TYPE];\n",
       "      var script_attrs = bk_div.children[0].attributes;\n",
       "      for (var i = 0; i < script_attrs.length; i++) {\n",
       "        toinsert[toinsert.length - 1].firstChild.setAttribute(script_attrs[i].name, script_attrs[i].value);\n",
       "      }\n",
       "      // store reference to server id on output_area\n",
       "      output_area._bokeh_server_id = output.metadata[EXEC_MIME_TYPE][\"server_id\"];\n",
       "    }\n",
       "  }\n",
       "\n",
       "  function register_renderer(events, OutputArea) {\n",
       "\n",
       "    function append_mime(data, metadata, element) {\n",
       "      // create a DOM node to render to\n",
       "      var toinsert = this.create_output_subarea(\n",
       "        metadata,\n",
       "        CLASS_NAME,\n",
       "        EXEC_MIME_TYPE\n",
       "      );\n",
       "      this.keyboard_manager.register_events(toinsert);\n",
       "      // Render to node\n",
       "      var props = {data: data, metadata: metadata[EXEC_MIME_TYPE]};\n",
       "      render(props, toinsert[toinsert.length - 1]);\n",
       "      element.append(toinsert);\n",
       "      return toinsert\n",
       "    }\n",
       "\n",
       "    /* Handle when an output is cleared or removed */\n",
       "    events.on('clear_output.CodeCell', handleClearOutput);\n",
       "    events.on('delete.Cell', handleClearOutput);\n",
       "\n",
       "    /* Handle when a new output is added */\n",
       "    events.on('output_added.OutputArea', handleAddOutput);\n",
       "\n",
       "    /**\n",
       "     * Register the mime type and append_mime function with output_area\n",
       "     */\n",
       "    OutputArea.prototype.register_mime_type(EXEC_MIME_TYPE, append_mime, {\n",
       "      /* Is output safe? */\n",
       "      safe: true,\n",
       "      /* Index of renderer in `output_area.display_order` */\n",
       "      index: 0\n",
       "    });\n",
       "  }\n",
       "\n",
       "  // register the mime type if in Jupyter Notebook environment and previously unregistered\n",
       "  if (root.Jupyter !== undefined) {\n",
       "    var events = require('base/js/events');\n",
       "    var OutputArea = require('notebook/js/outputarea').OutputArea;\n",
       "\n",
       "    if (OutputArea.prototype.mime_types().indexOf(EXEC_MIME_TYPE) == -1) {\n",
       "      register_renderer(events, OutputArea);\n",
       "    }\n",
       "  }\n",
       "\n",
       "  \n",
       "  if (typeof (root._bokeh_timeout) === \"undefined\" || force === true) {\n",
       "    root._bokeh_timeout = Date.now() + 5000;\n",
       "    root._bokeh_failed_load = false;\n",
       "  }\n",
       "\n",
       "  var NB_LOAD_WARNING = {'data': {'text/html':\n",
       "     \"<div style='background-color: #fdd'>\\n\"+\n",
       "     \"<p>\\n\"+\n",
       "     \"BokehJS does not appear to have successfully loaded. If loading BokehJS from CDN, this \\n\"+\n",
       "     \"may be due to a slow or bad network connection. Possible fixes:\\n\"+\n",
       "     \"</p>\\n\"+\n",
       "     \"<ul>\\n\"+\n",
       "     \"<li>re-rerun `output_notebook()` to attempt to load from CDN again, or</li>\\n\"+\n",
       "     \"<li>use INLINE resources instead, as so:</li>\\n\"+\n",
       "     \"</ul>\\n\"+\n",
       "     \"<code>\\n\"+\n",
       "     \"from bokeh.resources import INLINE\\n\"+\n",
       "     \"output_notebook(resources=INLINE)\\n\"+\n",
       "     \"</code>\\n\"+\n",
       "     \"</div>\"}};\n",
       "\n",
       "  function display_loaded() {\n",
       "    var el = document.getElementById(\"0d9ede4d-f851-4bf8-9fb2-30ee3589b4a3\");\n",
       "    if (el != null) {\n",
       "      el.textContent = \"BokehJS is loading...\";\n",
       "    }\n",
       "    if (root.Bokeh !== undefined) {\n",
       "      if (el != null) {\n",
       "        el.textContent = \"BokehJS \" + root.Bokeh.version + \" successfully loaded.\";\n",
       "      }\n",
       "    } else if (Date.now() < root._bokeh_timeout) {\n",
       "      setTimeout(display_loaded, 100)\n",
       "    }\n",
       "  }\n",
       "\n",
       "\n",
       "  function run_callbacks() {\n",
       "    try {\n",
       "      root._bokeh_onload_callbacks.forEach(function(callback) { callback() });\n",
       "    }\n",
       "    finally {\n",
       "      delete root._bokeh_onload_callbacks\n",
       "    }\n",
       "    console.info(\"Bokeh: all callbacks have finished\");\n",
       "  }\n",
       "\n",
       "  function load_libs(js_urls, callback) {\n",
       "    root._bokeh_onload_callbacks.push(callback);\n",
       "    if (root._bokeh_is_loading > 0) {\n",
       "      console.log(\"Bokeh: BokehJS is being loaded, scheduling callback at\", now());\n",
       "      return null;\n",
       "    }\n",
       "    if (js_urls == null || js_urls.length === 0) {\n",
       "      run_callbacks();\n",
       "      return null;\n",
       "    }\n",
       "    console.log(\"Bokeh: BokehJS not loaded, scheduling load and callback at\", now());\n",
       "    root._bokeh_is_loading = js_urls.length;\n",
       "    for (var i = 0; i < js_urls.length; i++) {\n",
       "      var url = js_urls[i];\n",
       "      var s = document.createElement('script');\n",
       "      s.src = url;\n",
       "      s.async = false;\n",
       "      s.onreadystatechange = s.onload = function() {\n",
       "        root._bokeh_is_loading--;\n",
       "        if (root._bokeh_is_loading === 0) {\n",
       "          console.log(\"Bokeh: all BokehJS libraries loaded\");\n",
       "          run_callbacks()\n",
       "        }\n",
       "      };\n",
       "      s.onerror = function() {\n",
       "        console.warn(\"failed to load library \" + url);\n",
       "      };\n",
       "      console.log(\"Bokeh: injecting script tag for BokehJS library: \", url);\n",
       "      document.getElementsByTagName(\"head\")[0].appendChild(s);\n",
       "    }\n",
       "  };var element = document.getElementById(\"0d9ede4d-f851-4bf8-9fb2-30ee3589b4a3\");\n",
       "  if (element == null) {\n",
       "    console.log(\"Bokeh: ERROR: autoload.js configured with elementid '0d9ede4d-f851-4bf8-9fb2-30ee3589b4a3' but no matching script tag was found. \")\n",
       "    return false;\n",
       "  }\n",
       "\n",
       "  var js_urls = [\"https://cdn.pydata.org/bokeh/release/bokeh-0.13.0.min.js\", \"https://cdn.pydata.org/bokeh/release/bokeh-widgets-0.13.0.min.js\", \"https://cdn.pydata.org/bokeh/release/bokeh-tables-0.13.0.min.js\", \"https://cdn.pydata.org/bokeh/release/bokeh-gl-0.13.0.min.js\"];\n",
       "\n",
       "  var inline_js = [\n",
       "    function(Bokeh) {\n",
       "      Bokeh.set_log_level(\"info\");\n",
       "    },\n",
       "    \n",
       "    function(Bokeh) {\n",
       "      \n",
       "    },\n",
       "    function(Bokeh) {\n",
       "      console.log(\"Bokeh: injecting CSS: https://cdn.pydata.org/bokeh/release/bokeh-0.13.0.min.css\");\n",
       "      Bokeh.embed.inject_css(\"https://cdn.pydata.org/bokeh/release/bokeh-0.13.0.min.css\");\n",
       "      console.log(\"Bokeh: injecting CSS: https://cdn.pydata.org/bokeh/release/bokeh-widgets-0.13.0.min.css\");\n",
       "      Bokeh.embed.inject_css(\"https://cdn.pydata.org/bokeh/release/bokeh-widgets-0.13.0.min.css\");\n",
       "      console.log(\"Bokeh: injecting CSS: https://cdn.pydata.org/bokeh/release/bokeh-tables-0.13.0.min.css\");\n",
       "      Bokeh.embed.inject_css(\"https://cdn.pydata.org/bokeh/release/bokeh-tables-0.13.0.min.css\");\n",
       "    }\n",
       "  ];\n",
       "\n",
       "  function run_inline_js() {\n",
       "    \n",
       "    if ((root.Bokeh !== undefined) || (force === true)) {\n",
       "      for (var i = 0; i < inline_js.length; i++) {\n",
       "        inline_js[i].call(root, root.Bokeh);\n",
       "      }if (force === true) {\n",
       "        display_loaded();\n",
       "      }} else if (Date.now() < root._bokeh_timeout) {\n",
       "      setTimeout(run_inline_js, 100);\n",
       "    } else if (!root._bokeh_failed_load) {\n",
       "      console.log(\"Bokeh: BokehJS failed to load within specified timeout.\");\n",
       "      root._bokeh_failed_load = true;\n",
       "    } else if (force !== true) {\n",
       "      var cell = $(document.getElementById(\"0d9ede4d-f851-4bf8-9fb2-30ee3589b4a3\")).parents('.cell').data().cell;\n",
       "      cell.output_area.append_execute_result(NB_LOAD_WARNING)\n",
       "    }\n",
       "\n",
       "  }\n",
       "\n",
       "  if (root._bokeh_is_loading === 0) {\n",
       "    console.log(\"Bokeh: BokehJS loaded, going straight to plotting\");\n",
       "    run_inline_js();\n",
       "  } else {\n",
       "    load_libs(js_urls, function() {\n",
       "      console.log(\"Bokeh: BokehJS plotting callback run at\", now());\n",
       "      run_inline_js();\n",
       "    });\n",
       "  }\n",
       "}(window));"
      ],
      "application/vnd.bokehjs_load.v0+json": "\n(function(root) {\n  function now() {\n    return new Date();\n  }\n\n  var force = true;\n\n  if (typeof (root._bokeh_onload_callbacks) === \"undefined\" || force === true) {\n    root._bokeh_onload_callbacks = [];\n    root._bokeh_is_loading = undefined;\n  }\n\n  \n\n  \n  if (typeof (root._bokeh_timeout) === \"undefined\" || force === true) {\n    root._bokeh_timeout = Date.now() + 5000;\n    root._bokeh_failed_load = false;\n  }\n\n  var NB_LOAD_WARNING = {'data': {'text/html':\n     \"<div style='background-color: #fdd'>\\n\"+\n     \"<p>\\n\"+\n     \"BokehJS does not appear to have successfully loaded. If loading BokehJS from CDN, this \\n\"+\n     \"may be due to a slow or bad network connection. Possible fixes:\\n\"+\n     \"</p>\\n\"+\n     \"<ul>\\n\"+\n     \"<li>re-rerun `output_notebook()` to attempt to load from CDN again, or</li>\\n\"+\n     \"<li>use INLINE resources instead, as so:</li>\\n\"+\n     \"</ul>\\n\"+\n     \"<code>\\n\"+\n     \"from bokeh.resources import INLINE\\n\"+\n     \"output_notebook(resources=INLINE)\\n\"+\n     \"</code>\\n\"+\n     \"</div>\"}};\n\n  function display_loaded() {\n    var el = document.getElementById(\"0d9ede4d-f851-4bf8-9fb2-30ee3589b4a3\");\n    if (el != null) {\n      el.textContent = \"BokehJS is loading...\";\n    }\n    if (root.Bokeh !== undefined) {\n      if (el != null) {\n        el.textContent = \"BokehJS \" + root.Bokeh.version + \" successfully loaded.\";\n      }\n    } else if (Date.now() < root._bokeh_timeout) {\n      setTimeout(display_loaded, 100)\n    }\n  }\n\n\n  function run_callbacks() {\n    try {\n      root._bokeh_onload_callbacks.forEach(function(callback) { callback() });\n    }\n    finally {\n      delete root._bokeh_onload_callbacks\n    }\n    console.info(\"Bokeh: all callbacks have finished\");\n  }\n\n  function load_libs(js_urls, callback) {\n    root._bokeh_onload_callbacks.push(callback);\n    if (root._bokeh_is_loading > 0) {\n      console.log(\"Bokeh: BokehJS is being loaded, scheduling callback at\", now());\n      return null;\n    }\n    if (js_urls == null || js_urls.length === 0) {\n      run_callbacks();\n      return null;\n    }\n    console.log(\"Bokeh: BokehJS not loaded, scheduling load and callback at\", now());\n    root._bokeh_is_loading = js_urls.length;\n    for (var i = 0; i < js_urls.length; i++) {\n      var url = js_urls[i];\n      var s = document.createElement('script');\n      s.src = url;\n      s.async = false;\n      s.onreadystatechange = s.onload = function() {\n        root._bokeh_is_loading--;\n        if (root._bokeh_is_loading === 0) {\n          console.log(\"Bokeh: all BokehJS libraries loaded\");\n          run_callbacks()\n        }\n      };\n      s.onerror = function() {\n        console.warn(\"failed to load library \" + url);\n      };\n      console.log(\"Bokeh: injecting script tag for BokehJS library: \", url);\n      document.getElementsByTagName(\"head\")[0].appendChild(s);\n    }\n  };var element = document.getElementById(\"0d9ede4d-f851-4bf8-9fb2-30ee3589b4a3\");\n  if (element == null) {\n    console.log(\"Bokeh: ERROR: autoload.js configured with elementid '0d9ede4d-f851-4bf8-9fb2-30ee3589b4a3' but no matching script tag was found. \")\n    return false;\n  }\n\n  var js_urls = [\"https://cdn.pydata.org/bokeh/release/bokeh-0.13.0.min.js\", \"https://cdn.pydata.org/bokeh/release/bokeh-widgets-0.13.0.min.js\", \"https://cdn.pydata.org/bokeh/release/bokeh-tables-0.13.0.min.js\", \"https://cdn.pydata.org/bokeh/release/bokeh-gl-0.13.0.min.js\"];\n\n  var inline_js = [\n    function(Bokeh) {\n      Bokeh.set_log_level(\"info\");\n    },\n    \n    function(Bokeh) {\n      \n    },\n    function(Bokeh) {\n      console.log(\"Bokeh: injecting CSS: https://cdn.pydata.org/bokeh/release/bokeh-0.13.0.min.css\");\n      Bokeh.embed.inject_css(\"https://cdn.pydata.org/bokeh/release/bokeh-0.13.0.min.css\");\n      console.log(\"Bokeh: injecting CSS: https://cdn.pydata.org/bokeh/release/bokeh-widgets-0.13.0.min.css\");\n      Bokeh.embed.inject_css(\"https://cdn.pydata.org/bokeh/release/bokeh-widgets-0.13.0.min.css\");\n      console.log(\"Bokeh: injecting CSS: https://cdn.pydata.org/bokeh/release/bokeh-tables-0.13.0.min.css\");\n      Bokeh.embed.inject_css(\"https://cdn.pydata.org/bokeh/release/bokeh-tables-0.13.0.min.css\");\n    }\n  ];\n\n  function run_inline_js() {\n    \n    if ((root.Bokeh !== undefined) || (force === true)) {\n      for (var i = 0; i < inline_js.length; i++) {\n        inline_js[i].call(root, root.Bokeh);\n      }if (force === true) {\n        display_loaded();\n      }} else if (Date.now() < root._bokeh_timeout) {\n      setTimeout(run_inline_js, 100);\n    } else if (!root._bokeh_failed_load) {\n      console.log(\"Bokeh: BokehJS failed to load within specified timeout.\");\n      root._bokeh_failed_load = true;\n    } else if (force !== true) {\n      var cell = $(document.getElementById(\"0d9ede4d-f851-4bf8-9fb2-30ee3589b4a3\")).parents('.cell').data().cell;\n      cell.output_area.append_execute_result(NB_LOAD_WARNING)\n    }\n\n  }\n\n  if (root._bokeh_is_loading === 0) {\n    console.log(\"Bokeh: BokehJS loaded, going straight to plotting\");\n    run_inline_js();\n  } else {\n    load_libs(js_urls, function() {\n      console.log(\"Bokeh: BokehJS plotting callback run at\", now());\n      run_inline_js();\n    });\n  }\n}(window));"
     },
     "metadata": {},
     "output_type": "display_data"
    }
   ],
   "source": [
    "from bokeh.io import show, output_notebook\n",
    "from bokeh.models import ColumnDataSource, HoverTool, NumeralTickFormatter\n",
    "from bokeh.palettes import Spectral6\n",
    "from bokeh.plotting import figure\n",
    "from bokeh.transform import factor_cmap\n",
    "\n",
    "output_notebook()"
   ]
  },
  {
   "cell_type": "code",
   "execution_count": 227,
   "metadata": {
    "scrolled": false
   },
   "outputs": [
    {
     "name": "stderr",
     "output_type": "stream",
     "text": [
      "/anaconda3/lib/python3.6/site-packages/ipykernel_launcher.py:4: SettingWithCopyWarning: \n",
      "A value is trying to be set on a copy of a slice from a DataFrame.\n",
      "Try using .loc[row_indexer,col_indexer] = value instead\n",
      "\n",
      "See the caveats in the documentation: http://pandas.pydata.org/pandas-docs/stable/indexing.html#indexing-view-versus-copy\n",
      "  after removing the cwd from sys.path.\n",
      "/anaconda3/lib/python3.6/site-packages/ipykernel_launcher.py:5: SettingWithCopyWarning: \n",
      "A value is trying to be set on a copy of a slice from a DataFrame.\n",
      "Try using .loc[row_indexer,col_indexer] = value instead\n",
      "\n",
      "See the caveats in the documentation: http://pandas.pydata.org/pandas-docs/stable/indexing.html#indexing-view-versus-copy\n",
      "  \"\"\"\n"
     ]
    },
    {
     "data": {
      "text/html": [
       "\n",
       "\n",
       "\n",
       "\n",
       "\n",
       "\n",
       "  <div class=\"bk-root\" id=\"99ce8699-4983-4f80-9d7a-da4880370480\"></div>\n"
      ]
     },
     "metadata": {},
     "output_type": "display_data"
    },
    {
     "data": {
      "application/javascript": [
       "(function(root) {\n",
       "  function embed_document(root) {\n",
       "    \n",
       "  var docs_json = {\"8d682008-1618-457d-a270-e8c0b40b632c\":{\"roots\":{\"references\":[{\"attributes\":{\"items\":[{\"id\":\"b4fbc882-3a94-4604-b308-95978cdcc97f\",\"type\":\"LegendItem\"}],\"plot\":{\"id\":\"df123441-3e9d-4d2a-9787-d1483b9b2e46\",\"subtype\":\"Figure\",\"type\":\"Plot\"}},\"id\":\"7756d4c2-aac8-43c8-9ee8-bd6e897b0992\",\"type\":\"Legend\"},{\"attributes\":{\"label\":{\"field\":\"label\"},\"renderers\":[{\"id\":\"66632d2f-bb1b-4cfb-8e82-e4b023e9e204\",\"type\":\"GlyphRenderer\"}]},\"id\":\"b4fbc882-3a94-4604-b308-95978cdcc97f\",\"type\":\"LegendItem\"},{\"attributes\":{\"mantissas\":[1,2,5],\"max_interval\":500.0,\"num_minor_ticks\":0},\"id\":\"8d79443e-8f03-4ebd-a1e0-a9169c65a983\",\"type\":\"AdaptiveTicker\"},{\"attributes\":{\"bottom_units\":\"screen\",\"fill_alpha\":{\"value\":0.5},\"fill_color\":{\"value\":\"lightgrey\"},\"left_units\":\"screen\",\"level\":\"overlay\",\"line_alpha\":{\"value\":1.0},\"line_color\":{\"value\":\"black\"},\"line_dash\":[4,4],\"line_width\":{\"value\":2},\"plot\":null,\"render_mode\":\"css\",\"right_units\":\"screen\",\"top_units\":\"screen\"},\"id\":\"cd744228-8235-4899-a9e7-71524f4e555d\",\"type\":\"BoxAnnotation\"},{\"attributes\":{\"num_minor_ticks\":5,\"tickers\":[{\"id\":\"8d79443e-8f03-4ebd-a1e0-a9169c65a983\",\"type\":\"AdaptiveTicker\"},{\"id\":\"d9607265-ae2d-4965-b7dd-959673fc4acb\",\"type\":\"AdaptiveTicker\"},{\"id\":\"9566391e-c663-49cd-a570-b2dad7b8fbca\",\"type\":\"AdaptiveTicker\"},{\"id\":\"9c98cc6d-10ea-4a28-b09d-5ff47c448af8\",\"type\":\"DaysTicker\"},{\"id\":\"c91eedf6-8bc0-41d5-8f78-7d2ffa0ff0e0\",\"type\":\"DaysTicker\"},{\"id\":\"c7557816-2f29-481a-89d1-aa326832e305\",\"type\":\"DaysTicker\"},{\"id\":\"629f1afc-0353-4df2-a5db-48b2efb7474c\",\"type\":\"DaysTicker\"},{\"id\":\"0f13909b-25ba-418c-a6d3-e64f385b714c\",\"type\":\"MonthsTicker\"},{\"id\":\"846e1666-952b-4e93-a9e2-a09aac08497e\",\"type\":\"MonthsTicker\"},{\"id\":\"03fabeeb-6b45-4e85-b619-0146bb7a0ba6\",\"type\":\"MonthsTicker\"},{\"id\":\"d1f186a4-de67-464f-b00f-edc7d830adcf\",\"type\":\"MonthsTicker\"},{\"id\":\"9ba13647-e536-401f-ab2d-d50a339a22da\",\"type\":\"YearsTicker\"}]},\"id\":\"bd6d6afa-22de-41e4-991c-f6b3082144df\",\"type\":\"DatetimeTicker\"},{\"attributes\":{\"base\":60,\"mantissas\":[1,2,5,10,15,20,30],\"max_interval\":1800000.0,\"min_interval\":1000.0,\"num_minor_ticks\":0},\"id\":\"d9607265-ae2d-4965-b7dd-959673fc4acb\",\"type\":\"AdaptiveTicker\"},{\"attributes\":{\"days\":[1,8,15,22]},\"id\":\"c7557816-2f29-481a-89d1-aa326832e305\",\"type\":\"DaysTicker\"},{\"attributes\":{},\"id\":\"91f65275-364d-4aa7-8335-ca11fd7c54d0\",\"type\":\"UnionRenderers\"},{\"attributes\":{},\"id\":\"796e95d6-4d13-44e8-8f12-9aab0a16580d\",\"type\":\"BasicTicker\"},{\"attributes\":{\"dimensions\":\"width\"},\"id\":\"5ebd79bf-b787-4a91-95ba-3b4765636de9\",\"type\":\"PanTool\"},{\"attributes\":{\"dimension\":1,\"plot\":{\"id\":\"df123441-3e9d-4d2a-9787-d1483b9b2e46\",\"subtype\":\"Figure\",\"type\":\"Plot\"},\"ticker\":{\"id\":\"796e95d6-4d13-44e8-8f12-9aab0a16580d\",\"type\":\"BasicTicker\"}},\"id\":\"53395738-bc16-4925-bc53-09a720e67a1f\",\"type\":\"Grid\"},{\"attributes\":{\"formatter\":{\"id\":\"faee8b7a-b626-40f1-a9e7-3d04b6ce6539\",\"type\":\"NumeralTickFormatter\"},\"plot\":{\"id\":\"df123441-3e9d-4d2a-9787-d1483b9b2e46\",\"subtype\":\"Figure\",\"type\":\"Plot\"},\"ticker\":{\"id\":\"796e95d6-4d13-44e8-8f12-9aab0a16580d\",\"type\":\"BasicTicker\"}},\"id\":\"c13c22b6-479a-4c1d-bb86-3a75d9d99ae4\",\"type\":\"LinearAxis\"},{\"attributes\":{\"dimensions\":\"width\"},\"id\":\"276cd343-5450-4ac2-96e0-7a080aec7035\",\"type\":\"ZoomInTool\"},{\"attributes\":{\"formatter\":{\"id\":\"a21e10e2-13e0-445b-aec4-4ec11c3a8199\",\"type\":\"DatetimeTickFormatter\"},\"plot\":{\"id\":\"df123441-3e9d-4d2a-9787-d1483b9b2e46\",\"subtype\":\"Figure\",\"type\":\"Plot\"},\"ticker\":{\"id\":\"bd6d6afa-22de-41e4-991c-f6b3082144df\",\"type\":\"DatetimeTicker\"}},\"id\":\"2a6b5a84-eed1-4ffa-a6b5-99f8328acf6c\",\"type\":\"DatetimeAxis\"},{\"attributes\":{\"callback\":null,\"data\":{\"amount\":{\"__ndarray__\":\"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\",\"dtype\":\"float64\",\"shape\":[424]},\"date\":{\"__ndarray__\":\"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\",\"dtype\":\"float64\",\"shape\":[424]},\"label\":[\"recv\",\"sent\",\"sent\",\"sent\",\"sent\",\"sent\",\"sent\",\"sent\",\"sent\",\"recv\",\"sent\",\"sent\",\"sent\",\"sent\",\"sent\",\"recv\",\"sent\",\"sent\",\"sent\",\"sent\",\"sent\",\"sent\",\"sent\",\"recv\",\"sent\",\"sent\",\"sent\",\"sent\",\"sent\",\"recv\",\"sent\",\"sent\",\"sent\",\"sent\",\"sent\",\"sent\",\"sent\",\"sent\",\"sent\",\"sent\",\"recv\",\"sent\",\"recv\",\"sent\",\"sent\",\"sent\",\"sent\",\"sent\",\"sent\",\"recv\",\"sent\",\"recv\",\"sent\",\"recv\",\"sent\",\"sent\",\"sent\",\"recv\",\"sent\",\"recv\",\"sent\",\"sent\",\"recv\",\"sent\",\"sent\",\"recv\",\"sent\",\"sent\",\"recv\",\"sent\",\"recv\",\"sent\",\"sent\",\"recv\",\"sent\",\"sent\",\"recv\",\"sent\",\"recv\",\"recv\",\"sent\",\"sent\",\"recv\",\"sent\",\"recv\",\"sent\",\"recv\",\"sent\",\"recv\",\"sent\",\"sent\",\"recv\",\"recv\",\"sent\",\"sent\",\"recv\",\"sent\",\"recv\",\"sent\",\"recv\",\"sent\",\"sent\",\"recv\",\"sent\",\"sent\",\"sent\",\"recv\",\"sent\",\"recv\",\"sent\",\"sent\",\"sent\",\"sent\",\"recv\",\"sent\",\"recv\",\"sent\",\"recv\",\"sent\",\"sent\",\"recv\",\"recv\",\"sent\",\"recv\",\"sent\",\"sent\",\"recv\",\"sent\",\"sent\",\"recv\",\"sent\",\"recv\",\"sent\",\"recv\",\"sent\",\"recv\",\"recv\",\"sent\",\"recv\",\"sent\",\"sent\",\"recv\",\"sent\",\"recv\",\"recv\",\"sent\",\"recv\",\"sent\",\"recv\",\"sent\",\"sent\",\"recv\",\"sent\",\"recv\",\"sent\",\"recv\",\"recv\",\"sent\",\"recv\",\"sent\",\"recv\",\"sent\",\"sent\",\"recv\",\"sent\",\"recv\",\"recv\",\"sent\",\"sent\",\"recv\",\"recv\",\"sent\",\"recv\",\"sent\",\"sent\",\"recv\",\"sent\",\"recv\",\"sent\",\"recv\",\"sent\",\"recv\",\"recv\",\"sent\",\"recv\",\"sent\",\"recv\",\"sent\",\"recv\",\"sent\",\"recv\",\"sent\",\"recv\",\"sent\",\"recv\",\"sent\",\"recv\",\"sent\",\"recv\",\"sent\",\"recv\",\"sent\",\"sent\",\"recv\",\"sent\",\"recv\",\"sent\",\"recv\",\"recv\",\"sent\",\"sent\",\"recv\",\"recv\",\"sent\",\"recv\",\"sent\",\"sent\",\"recv\",\"sent\",\"recv\",\"sent\",\"recv\",\"sent\",\"recv\",\"sent\",\"recv\",\"sent\",\"recv\",\"sent\",\"recv\",\"sent\",\"recv\",\"recv\",\"sent\",\"sent\",\"recv\",\"sent\",\"recv\",\"sent\",\"recv\",\"sent\",\"recv\",\"sent\",\"recv\",\"sent\",\"recv\",\"sent\",\"recv\",\"recv\",\"sent\",\"recv\",\"sent\",\"recv\",\"sent\",\"sent\",\"recv\",\"recv\",\"sent\",\"sent\",\"recv\",\"sent\",\"recv\",\"recv\",\"sent\",\"recv\",\"sent\",\"recv\",\"sent\",\"sent\",\"recv\",\"recv\",\"sent\",\"recv\",\"sent\",\"recv\",\"sent\",\"sent\",\"recv\",\"sent\",\"recv\",\"sent\",\"recv\",\"sent\",\"recv\",\"sent\",\"recv\",\"sent\",\"recv\",\"recv\",\"sent\",\"sent\",\"recv\",\"sent\",\"recv\",\"recv\",\"sent\",\"recv\",\"sent\",\"recv\",\"sent\",\"recv\",\"sent\",\"recv\",\"sent\",\"recv\",\"sent\",\"recv\",\"sent\",\"recv\",\"sent\",\"recv\",\"sent\",\"recv\",\"sent\",\"recv\",\"sent\",\"recv\",\"sent\",\"recv\",\"sent\",\"recv\",\"sent\",\"sent\",\"recv\",\"sent\",\"recv\",\"sent\",\"recv\",\"sent\",\"recv\",\"recv\",\"sent\",\"recv\",\"sent\",\"sent\",\"recv\",\"recv\",\"sent\",\"sent\",\"recv\",\"recv\",\"sent\",\"sent\",\"recv\",\"sent\",\"recv\",\"sent\",\"recv\",\"sent\",\"recv\",\"recv\",\"sent\",\"recv\",\"sent\",\"sent\",\"recv\",\"recv\",\"sent\",\"recv\",\"sent\",\"sent\",\"recv\",\"recv\",\"sent\",\"sent\",\"recv\",\"recv\",\"sent\",\"sent\",\"recv\",\"recv\",\"sent\",\"recv\",\"sent\",\"sent\",\"recv\",\"recv\",\"sent\",\"recv\",\"sent\",\"recv\",\"sent\",\"sent\",\"recv\",\"recv\",\"sent\",\"sent\",\"recv\",\"sent\",\"recv\",\"sent\",\"recv\",\"sent\",\"recv\",\"sent\",\"recv\",\"sent\",\"recv\",\"sent\",\"recv\",\"recv\",\"sent\",\"sent\",\"recv\",\"recv\",\"sent\",\"recv\",\"sent\",\"sent\",\"recv\",\"recv\",\"sent\",\"sent\",\"recv\",\"sent\",\"recv\",\"recv\",\"sent\",\"sent\",\"recv\",\"sent\",\"recv\",\"sent\",\"recv\"]},\"selected\":{\"id\":\"a0cda890-1286-4988-89d3-09660f1619fe\",\"type\":\"Selection\"},\"selection_policy\":{\"id\":\"91f65275-364d-4aa7-8335-ca11fd7c54d0\",\"type\":\"UnionRenderers\"}},\"id\":\"8f7a4ed1-62ae-4b5e-b4a1-fe41f5d50fab\",\"type\":\"ColumnDataSource\"},{\"attributes\":{\"format\":\"0,000\"},\"id\":\"faee8b7a-b626-40f1-a9e7-3d04b6ce6539\",\"type\":\"NumeralTickFormatter\"},{\"attributes\":{},\"id\":\"a21e10e2-13e0-445b-aec4-4ec11c3a8199\",\"type\":\"DatetimeTickFormatter\"},{\"attributes\":{},\"id\":\"d5883e76-55fb-4e8a-aaea-b9aa9673aba8\",\"type\":\"ResetTool\"},{\"attributes\":{\"base\":24,\"mantissas\":[1,2,4,6,8,12],\"max_interval\":43200000.0,\"min_interval\":3600000.0,\"num_minor_ticks\":0},\"id\":\"9566391e-c663-49cd-a570-b2dad7b8fbca\",\"type\":\"AdaptiveTicker\"},{\"attributes\":{\"callback\":null,\"formatters\":{\"date\":\"datetime\",\"tokens\":\"printf\"},\"mode\":\"vline\",\"renderers\":\"auto\",\"tooltips\":[[\"date\",\"@date{%F}\"],[\"tokens\",\"@amount{0,000}\"],[\"type\",\"@label\"]]},\"id\":\"8cc4fe62-a4e0-45eb-9aa0-061603ad2695\",\"type\":\"HoverTool\"},{\"attributes\":{\"overlay\":{\"id\":\"cd744228-8235-4899-a9e7-71524f4e555d\",\"type\":\"BoxAnnotation\"}},\"id\":\"f99be982-2895-41db-9a0c-688ade8ea264\",\"type\":\"BoxZoomTool\"},{\"attributes\":{\"plot\":null,\"text\":\"\"},\"id\":\"da669bdc-13da-4968-89e2-984f94b99dbc\",\"type\":\"Title\"},{\"attributes\":{},\"id\":\"50e40d6a-9bc3-48e1-a711-f3b0ec8cad7c\",\"type\":\"LinearScale\"},{\"attributes\":{\"days\":[1,4,7,10,13,16,19,22,25,28]},\"id\":\"c91eedf6-8bc0-41d5-8f78-7d2ffa0ff0e0\",\"type\":\"DaysTicker\"},{\"attributes\":{\"callback\":null,\"end\":1526256000000.0,\"start\":1510704000000.0},\"id\":\"f6c6f104-2217-43ae-a7f2-8d2994e91c14\",\"type\":\"Range1d\"},{\"attributes\":{\"factors\":[\"sent\",\"recv\"],\"palette\":[\"#fc8d59\",\"#3288bd\"]},\"id\":\"0b379dea-711a-4bd1-819e-ce53c744feea\",\"type\":\"CategoricalColorMapper\"},{\"attributes\":{\"days\":[1,15]},\"id\":\"629f1afc-0353-4df2-a5db-48b2efb7474c\",\"type\":\"DaysTicker\"},{\"attributes\":{\"dimensions\":\"width\"},\"id\":\"17287cef-1e8c-4ea3-9ec2-7b7409cec520\",\"type\":\"ZoomOutTool\"},{\"attributes\":{\"below\":[{\"id\":\"2a6b5a84-eed1-4ffa-a6b5-99f8328acf6c\",\"type\":\"DatetimeAxis\"}],\"left\":[{\"id\":\"c13c22b6-479a-4c1d-bb86-3a75d9d99ae4\",\"type\":\"LinearAxis\"}],\"plot_height\":300,\"plot_width\":800,\"renderers\":[{\"id\":\"2a6b5a84-eed1-4ffa-a6b5-99f8328acf6c\",\"type\":\"DatetimeAxis\"},{\"id\":\"31cace2b-7724-4283-b225-2c076b590c76\",\"type\":\"Grid\"},{\"id\":\"c13c22b6-479a-4c1d-bb86-3a75d9d99ae4\",\"type\":\"LinearAxis\"},{\"id\":\"53395738-bc16-4925-bc53-09a720e67a1f\",\"type\":\"Grid\"},{\"id\":\"cd744228-8235-4899-a9e7-71524f4e555d\",\"type\":\"BoxAnnotation\"},{\"id\":\"7756d4c2-aac8-43c8-9ee8-bd6e897b0992\",\"type\":\"Legend\"},{\"id\":\"66632d2f-bb1b-4cfb-8e82-e4b023e9e204\",\"type\":\"GlyphRenderer\"}],\"title\":{\"id\":\"da669bdc-13da-4968-89e2-984f94b99dbc\",\"type\":\"Title\"},\"toolbar\":{\"id\":\"73231e4e-5b82-4f7c-b301-f0d59ac57fbe\",\"type\":\"Toolbar\"},\"toolbar_location\":\"left\",\"x_range\":{\"id\":\"f6c6f104-2217-43ae-a7f2-8d2994e91c14\",\"type\":\"Range1d\"},\"x_scale\":{\"id\":\"50e40d6a-9bc3-48e1-a711-f3b0ec8cad7c\",\"type\":\"LinearScale\"},\"y_range\":{\"id\":\"56b59174-0402-4562-84a6-e59578568546\",\"type\":\"DataRange1d\"},\"y_scale\":{\"id\":\"b9a85336-ed05-43de-b165-bc6f5cc6ad5c\",\"type\":\"LinearScale\"}},\"id\":\"df123441-3e9d-4d2a-9787-d1483b9b2e46\",\"subtype\":\"Figure\",\"type\":\"Plot\"},{\"attributes\":{\"source\":{\"id\":\"8f7a4ed1-62ae-4b5e-b4a1-fe41f5d50fab\",\"type\":\"ColumnDataSource\"}},\"id\":\"4342c336-e2b1-4b5d-b2ac-f2f5ecff7d65\",\"type\":\"CDSView\"},{\"attributes\":{},\"id\":\"a0cda890-1286-4988-89d3-09660f1619fe\",\"type\":\"Selection\"},{\"attributes\":{\"data_source\":{\"id\":\"8f7a4ed1-62ae-4b5e-b4a1-fe41f5d50fab\",\"type\":\"ColumnDataSource\"},\"glyph\":{\"id\":\"c3588754-9f07-4dd0-9ac0-bf60e4d8275c\",\"type\":\"VBar\"},\"hover_glyph\":null,\"muted_glyph\":null,\"nonselection_glyph\":{\"id\":\"d906da19-9212-4bd6-b009-9b33531634e2\",\"type\":\"VBar\"},\"selection_glyph\":null,\"view\":{\"id\":\"4342c336-e2b1-4b5d-b2ac-f2f5ecff7d65\",\"type\":\"CDSView\"}},\"id\":\"66632d2f-bb1b-4cfb-8e82-e4b023e9e204\",\"type\":\"GlyphRenderer\"},{\"attributes\":{\"callback\":null},\"id\":\"56b59174-0402-4562-84a6-e59578568546\",\"type\":\"DataRange1d\"},{\"attributes\":{\"fill_color\":{\"field\":\"label\",\"transform\":{\"id\":\"0b379dea-711a-4bd1-819e-ce53c744feea\",\"type\":\"CategoricalColorMapper\"}},\"line_color\":{\"value\":\"white\"},\"line_width\":{\"value\":0.1},\"top\":{\"field\":\"amount\"},\"width\":{\"value\":43200000.0},\"x\":{\"field\":\"date\"}},\"id\":\"c3588754-9f07-4dd0-9ac0-bf60e4d8275c\",\"type\":\"VBar\"},{\"attributes\":{\"months\":[0,1,2,3,4,5,6,7,8,9,10,11]},\"id\":\"0f13909b-25ba-418c-a6d3-e64f385b714c\",\"type\":\"MonthsTicker\"},{\"attributes\":{\"months\":[0,6]},\"id\":\"d1f186a4-de67-464f-b00f-edc7d830adcf\",\"type\":\"MonthsTicker\"},{\"attributes\":{\"months\":[0,2,4,6,8,10]},\"id\":\"846e1666-952b-4e93-a9e2-a09aac08497e\",\"type\":\"MonthsTicker\"},{\"attributes\":{},\"id\":\"b9a85336-ed05-43de-b165-bc6f5cc6ad5c\",\"type\":\"LinearScale\"},{\"attributes\":{\"fill_alpha\":{\"value\":0.1},\"fill_color\":{\"value\":\"#1f77b4\"},\"line_alpha\":{\"value\":0.1},\"line_color\":{\"value\":\"#1f77b4\"},\"line_width\":{\"value\":0.1},\"top\":{\"field\":\"amount\"},\"width\":{\"value\":43200000.0},\"x\":{\"field\":\"date\"}},\"id\":\"d906da19-9212-4bd6-b009-9b33531634e2\",\"type\":\"VBar\"},{\"attributes\":{\"months\":[0,4,8]},\"id\":\"03fabeeb-6b45-4e85-b619-0146bb7a0ba6\",\"type\":\"MonthsTicker\"},{\"attributes\":{\"days\":[1,2,3,4,5,6,7,8,9,10,11,12,13,14,15,16,17,18,19,20,21,22,23,24,25,26,27,28,29,30,31]},\"id\":\"9c98cc6d-10ea-4a28-b09d-5ff47c448af8\",\"type\":\"DaysTicker\"},{\"attributes\":{\"active_drag\":\"auto\",\"active_inspect\":\"auto\",\"active_multi\":null,\"active_scroll\":\"auto\",\"active_tap\":\"auto\",\"tools\":[{\"id\":\"5ebd79bf-b787-4a91-95ba-3b4765636de9\",\"type\":\"PanTool\"},{\"id\":\"276cd343-5450-4ac2-96e0-7a080aec7035\",\"type\":\"ZoomInTool\"},{\"id\":\"17287cef-1e8c-4ea3-9ec2-7b7409cec520\",\"type\":\"ZoomOutTool\"},{\"id\":\"f99be982-2895-41db-9a0c-688ade8ea264\",\"type\":\"BoxZoomTool\"},{\"id\":\"d5883e76-55fb-4e8a-aaea-b9aa9673aba8\",\"type\":\"ResetTool\"},{\"id\":\"8cc4fe62-a4e0-45eb-9aa0-061603ad2695\",\"type\":\"HoverTool\"}]},\"id\":\"73231e4e-5b82-4f7c-b301-f0d59ac57fbe\",\"type\":\"Toolbar\"},{\"attributes\":{\"plot\":{\"id\":\"df123441-3e9d-4d2a-9787-d1483b9b2e46\",\"subtype\":\"Figure\",\"type\":\"Plot\"},\"ticker\":{\"id\":\"bd6d6afa-22de-41e4-991c-f6b3082144df\",\"type\":\"DatetimeTicker\"}},\"id\":\"31cace2b-7724-4283-b225-2c076b590c76\",\"type\":\"Grid\"},{\"attributes\":{},\"id\":\"9ba13647-e536-401f-ab2d-d50a339a22da\",\"type\":\"YearsTicker\"}],\"root_ids\":[\"df123441-3e9d-4d2a-9787-d1483b9b2e46\"]},\"title\":\"Bokeh Application\",\"version\":\"0.13.0\"}};\n",
       "  var render_items = [{\"docid\":\"8d682008-1618-457d-a270-e8c0b40b632c\",\"roots\":{\"df123441-3e9d-4d2a-9787-d1483b9b2e46\":\"99ce8699-4983-4f80-9d7a-da4880370480\"}}];\n",
       "  root.Bokeh.embed.embed_items_notebook(docs_json, render_items);\n",
       "\n",
       "  }\n",
       "  if (root.Bokeh !== undefined) {\n",
       "    embed_document(root);\n",
       "  } else {\n",
       "    var attempts = 0;\n",
       "    var timer = setInterval(function(root) {\n",
       "      if (root.Bokeh !== undefined) {\n",
       "        embed_document(root);\n",
       "        clearInterval(timer);\n",
       "      }\n",
       "      attempts++;\n",
       "      if (attempts > 100) {\n",
       "        console.log(\"Bokeh: ERROR: Unable to run BokehJS code because BokehJS library is missing\")\n",
       "        clearInterval(timer);\n",
       "      }\n",
       "    }, 10, root)\n",
       "  }\n",
       "})(window);"
      ],
      "application/vnd.bokehjs_exec.v0+json": ""
     },
     "metadata": {
      "application/vnd.bokehjs_exec.v0+json": {
       "id": "df123441-3e9d-4d2a-9787-d1483b9b2e46"
      }
     },
     "output_type": "display_data"
    }
   ],
   "source": [
    "def plot_hist(address, df=valid):\n",
    "    sent, recv = get_trans(address, df)\n",
    "    \n",
    "    sent['block_time'] = pd.to_datetime(sent['block_time']).dt.date\n",
    "    recv['block_time'] = pd.to_datetime(recv['block_time']).dt.date\n",
    "    \n",
    "    sent = sent[['block_time', 'amount']].groupby(['block_time']).agg('sum').reset_index()\n",
    "    recv = recv[['block_time', 'amount']].groupby(['block_time']).agg('sum').reset_index()\n",
    "    \n",
    "    sent.loc[:,'label'] = 'sent'\n",
    "    recv.loc[:,'label'] = 'recv'\n",
    "    \n",
    "    trans = pd.concat([sent, recv]).sort_values('block_time', ascending=True)\n",
    "\n",
    "    dates = np.array(list(trans['block_time']), dtype=np.datetime64)\n",
    "    source = ColumnDataSource(data=dict(date=dates, \n",
    "                                        amount=trans['amount'],\n",
    "                                        label=trans['label']))\n",
    "\n",
    "    p = figure(plot_height=300, \n",
    "               plot_width=800,\n",
    "               tools=\"xpan,xzoom_in,xzoom_out,box_zoom,reset\",\n",
    "               toolbar_location='left',\n",
    "               x_axis_type=\"datetime\",\n",
    "               x_range=(dates[-1]-np.timedelta64(180, 'D'), dates[-1]))\n",
    "\n",
    "    p.yaxis.formatter = NumeralTickFormatter(format=\"0,000\")\n",
    "\n",
    "    p.add_tools(HoverTool(\n",
    "        tooltips=[\n",
    "            ( 'date',   '@date{%F}'            ),\n",
    "            ( 'tokens',  '@amount{0,000}' ), # use @{ } for field names with spaces\n",
    "            ( 'type',  '@label' ), # use @{ } for field names with spaces\n",
    "        ],\n",
    "\n",
    "        formatters={\n",
    "            'date': 'datetime', # use 'datetime' formatter for 'date' field\n",
    "            'tokens': 'printf',   # use 'printf' formatter for 'adj close' field\n",
    "        },\n",
    "\n",
    "        # display a tooltip whenever the cursor is vertically in line with a glyph\n",
    "        mode='vline'\n",
    "    ))\n",
    "    \n",
    "    w = 1/2*24*60*60*1000 # halfday in ms\n",
    "\n",
    "    p.vbar(x='date',top='amount', width=w, source=source, legend='label',\n",
    "           line_width=0.1, line_color='white', fill_color=factor_cmap('label', palette=['#fc8d59', '#3288bd'], factors=['sent', 'recv']))\n",
    "\n",
    "    show(p)\n",
    "    \n",
    "plot_hist('1FoWyxwPXuj4C6abqwhjDWdz6D4PZgYRjA')"
   ]
  },
  {
   "cell_type": "code",
   "execution_count": null,
   "metadata": {},
   "outputs": [],
   "source": []
  }
 ],
 "metadata": {
  "kernelspec": {
   "display_name": "Python 3",
   "language": "python",
   "name": "python3"
  },
  "language_info": {
   "codemirror_mode": {
    "name": "ipython",
    "version": 3
   },
   "file_extension": ".py",
   "mimetype": "text/x-python",
   "name": "python",
   "nbconvert_exporter": "python",
   "pygments_lexer": "ipython3",
   "version": "3.6.4"
  },
  "toc": {
   "base_numbering": 1,
   "nav_menu": {},
   "number_sections": false,
   "sideBar": false,
   "skip_h1_title": false,
   "title_cell": "Table of Contents",
   "title_sidebar": "Contents",
   "toc_cell": false,
   "toc_position": {},
   "toc_section_display": false,
   "toc_window_display": false
  }
 },
 "nbformat": 4,
 "nbformat_minor": 2
}
